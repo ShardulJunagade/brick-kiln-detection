{
 "cells": [
  {
   "cell_type": "code",
   "execution_count": null,
   "metadata": {},
   "outputs": [],
   "source": [
    "# Config\n",
    "# import torch\n",
    "import os\n",
    "# Basic\n",
    "import numpy as np\n",
    "import pandas as pd\n",
    "import matplotlib.pyplot as plt\n",
    "# Monitoring\n",
    "from tqdm.notebook import tqdm\n",
    "# IO\n",
    "# from os.path import join, exists, basename, dirname, splitext, expanduser\n",
    "from glob import glob\n",
    "# Parallel processing\n",
    "from joblib import Parallel, delayed\n",
    "# import re\n",
    "from PIL import Image\n",
    "import supervision as sv\n",
    "from supervision.metrics import MeanAveragePrecision\n",
    "from supervision.metrics import MetricTarget\n",
    "from tempfile import mkdtemp\n",
    "\n",
    "from ultralytics import YOLO\n"
   ]
  },
  {
   "cell_type": "code",
   "execution_count": 17,
   "metadata": {},
   "outputs": [],
   "source": [
    "os.environ[\"CUDA_VISIBLE_DEVICES\"] = \"3\"\n"
   ]
  },
  {
   "cell_type": "code",
   "execution_count": null,
   "metadata": {},
   "outputs": [],
   "source": [
    "conf=0.001 ## confidence threshold\n",
    "type = \"obb\"\n",
    "task = \"obb\"\n",
    "iou=0.33 ## iou threshold"
   ]
  },
  {
   "cell_type": "code",
   "execution_count": null,
   "metadata": {},
   "outputs": [],
   "source": [
    "model_configs = [\n",
    "    # {\n",
    "    #     # Example Config\n",
    "    #     # west_bengal -> haryana\n",
    "    #     'base_state' : \"west_bengal\",\n",
    "    #     'target_state' : \"haryana\",\n",
    "    #     'model_name' : \"yolo11m-obb.pt\",\n",
    "    #     'gt_image_dir' : \"\",\n",
    "    #     'gt_label_dir' : \"\",\n",
    "    #     'class_count' : \"10_120_1000\",\n",
    "    #     'model_path' : \"\",\n",
    "    #     'image_size' : 640,\n",
    "    #     'epochs' : 100,\n",
    "    # }\n",
    "    {\n",
    "        # Example Config\n",
    "        'base_state' : \"delhi thera\",\n",
    "        'target_state' : \"delhi thera\",\n",
    "        'model_name' : \"yolo11m-obb.pt\",\n",
    "        'gt_image_dir' : \"/home/shardul.junagade/my-work/domain-adaptation-brick-kilns/data/thera_rdn_pro/delhi_ncr_4x/images\",\n",
    "        'gt_label_dir' : \"/home/shardul.junagade/my-work/domain-adaptation-brick-kilns/data/thera_rdn_pro/delhi_ncr_4x/labels\",\n",
    "        'class_count' : \"10_120_1000\",\n",
    "        'model_path' : \"\",\n",
    "        'image_size' : 640,\n",
    "        'epochs' : 100,\n",
    "    }\n",
    "]"
   ]
  },
  {
   "cell_type": "code",
   "execution_count": null,
   "metadata": {},
   "outputs": [
    {
     "data": {
      "text/html": [
       "<div>\n",
       "<style scoped>\n",
       "    .dataframe tbody tr th:only-of-type {\n",
       "        vertical-align: middle;\n",
       "    }\n",
       "\n",
       "    .dataframe tbody tr th {\n",
       "        vertical-align: top;\n",
       "    }\n",
       "\n",
       "    .dataframe thead th {\n",
       "        text-align: right;\n",
       "    }\n",
       "</style>\n",
       "<table border=\"1\" class=\"dataframe\">\n",
       "  <thead>\n",
       "    <tr style=\"text-align: right;\">\n",
       "      <th></th>\n",
       "      <th>base_state</th>\n",
       "      <th>target_state</th>\n",
       "      <th>model_name</th>\n",
       "      <th>gt_image_dir</th>\n",
       "      <th>gt_label_dir</th>\n",
       "      <th>class_count</th>\n",
       "      <th>model_path</th>\n",
       "      <th>image_size</th>\n",
       "      <th>epochs</th>\n",
       "    </tr>\n",
       "  </thead>\n",
       "  <tbody>\n",
       "    <tr>\n",
       "      <th>0</th>\n",
       "      <td>west_bengal</td>\n",
       "      <td>haryana</td>\n",
       "      <td>yolo11m-obb.pt</td>\n",
       "      <td></td>\n",
       "      <td></td>\n",
       "      <td>10_120_1000</td>\n",
       "      <td></td>\n",
       "      <td>640</td>\n",
       "      <td>100</td>\n",
       "    </tr>\n",
       "  </tbody>\n",
       "</table>\n",
       "</div>"
      ],
      "text/plain": [
       "    base_state target_state      model_name gt_image_dir gt_label_dir  \\\n",
       "0  west_bengal      haryana  yolo11m-obb.pt                             \n",
       "\n",
       "   class_count model_path  image_size  epochs  \n",
       "0  10_120_1000                    640     100  "
      ]
     },
     "metadata": {},
     "output_type": "display_data"
    },
    {
     "name": "stdout",
     "output_type": "stream",
     "text": [
      "Using configuration: {'base_state': 'west_bengal', 'target_state': 'haryana', 'model_name': 'yolo11m-obb.pt', 'gt_image_dir': '', 'gt_label_dir': '', 'class_count': '10_120_1000', 'model_path': '', 'image_size': 640, 'epochs': 100}\n"
     ]
    }
   ],
   "source": [
    "# chosen_index = \n",
    "\n",
    "df_configs = pd.DataFrame(model_configs, columns=model_configs[0].keys())\n",
    "display(df_configs)\n",
    "\n",
    "# Ask user to choose a config by its index\n",
    "try:\n",
    "    chosen_index = int(input(\"Enter the index of the config you want to use: \"))\n",
    "except ValueError:\n",
    "    print(\"Invalid input. Defaulting to first config (index 0).\")\n",
    "    chosen_index = 0\n",
    "\n",
    "# Check if the chosen index is within the valid range\n",
    "if chosen_index < 0 or chosen_index >= len(model_configs):\n",
    "    print(\"Index out of range. Defaulting to first config (index 0).\")\n",
    "    chosen_index = 0\n",
    "\n",
    "model_config = model_configs[chosen_index]\n",
    "print(f\"Using configuration: {model_config}\")\n"
   ]
  },
  {
   "cell_type": "code",
   "execution_count": null,
   "metadata": {},
   "outputs": [
    {
     "name": "stdout",
     "output_type": "stream",
     "text": [
      "Home Directory: /home/rishabh.mondal/Brick-Kilns-project/ijcai_2025_kilns/\n",
      "YOLO Runs Directory: /home/rishabh.mondal/Brick-Kilns-project/ijcai_2025_kilns/runs/obb/labels/\n",
      "Model Configuration:\n",
      "  Base State   : west_bengal\n",
      "  Target State : haryana\n",
      "  Model Name   : yolo11m-obb.pt\n",
      "  GT Image Dir : ../data/region_performance/test_bihar_same_class_count_10_120_1000/images\n",
      "  GT Label Dir : ../data/region_performance/test_bihar_same_class_count_10_120_1000/labels\n",
      "  Class Count  : 10_120_1000\n",
      "  Model Path   : /home/umang.shikarvar/Punjab-Bihar/Synthetic_Punjab_YOLO.pt\n",
      "  Image Size   : 640\n",
      "  Epochs       : 100\n",
      "\n",
      "Result Directory:   /home/rishabh.mondal/Brick-Kilns-project/ijcai_2025_kilns/runs/obb/labels/train_west_bengal_test_haryana_10_120_1000_obb_v2_yolo11m-obb.pt_640_128_100_0.001_0.33/\n",
      "Prediction Directory: /home/rishabh.mondal/Brick-Kilns-project/ijcai_2025_kilns/runs/obb/labels/train_west_bengal_test_haryana_10_120_1000_obb_v2_yolo11m-obb.pt_640_128_100_0.001_0.33/labels\n"
     ]
    }
   ],
   "source": [
    "home_dir = \"/home/rishabh.mondal/Brick-Kilns-project/ijcai_2025_kilns/\"\n",
    "yolo_runs_dir = f\"/home/rishabh.mondal/Brick-Kilns-project/ijcai_2025_kilns/runs/{type}/labels/\"\n",
    "print(f\"Home Directory: {home_dir}\")\n",
    "print(f\"YOLO Runs Directory: {yolo_runs_dir}\")\n",
    "\n",
    "base_state = model_config['base_state']\n",
    "target_state = model_config['target_state']\n",
    "model_name = model_config['model_name']\n",
    "gt_image_dir = model_config['gt_image_dir']\n",
    "gt_label_dir = model_config['gt_label_dir']\n",
    "class_count = model_config['class_count']\n",
    "model_path = model_config['model_path']\n",
    "image_size = model_config['image_size']\n",
    "epochs = model_config['epochs']\n",
    "\n",
    "# Print configuration parameters in a formatted way\n",
    "print(\"\\nModel Configuration:\")\n",
    "print(f\"  Base State   : {base_state}\")\n",
    "print(f\"  Target State : {target_state}\")\n",
    "print(f\"  Model Name   : {model_name}\")\n",
    "print(f\"  GT Image Dir : {gt_image_dir}\")\n",
    "print(f\"  GT Label Dir : {gt_label_dir}\")\n",
    "print(f\"  Class Count  : {class_count}\")\n",
    "print(f\"  Model Path   : {model_path}\")\n",
    "print(f\"  Image Size   : {image_size}\")\n",
    "print(f\"  Epochs       : {epochs}\")\n",
    "\n",
    "result_dir = f\"{yolo_runs_dir}train_{base_state}_test_{target_state}_{class_count}_{task}_v2_{model_name}_{image_size}_128_{epochs}_{conf}_{iou}/\"\n",
    "prediction_dir = os.path.join(result_dir, \"labels\")\n",
    "\n",
    "print(f\"\\nResult Directory:   {result_dir}\")\n",
    "print(f\"Prediction Directory: {prediction_dir}\")"
   ]
  },
  {
   "cell_type": "code",
   "execution_count": 8,
   "metadata": {},
   "outputs": [
    {
     "name": "stdout",
     "output_type": "stream",
     "text": [
      "\n",
      "Data YML Path: /tmp/tmpknzd8_ak/data.yml\n"
     ]
    }
   ],
   "source": [
    "## class information in yml file \n",
    "data_yml_save_path=mkdtemp()\n",
    "data_yml = f\"\"\"train: dummy\n",
    "val: dummy\n",
    "nc: 3\n",
    "names: [\"CFCBK\", \"FCBK\", \"Zigzag\"]\n",
    "\"\"\"\n",
    "data_yml_path = f\"{data_yml_save_path}/data.yml\"\n",
    "with open(data_yml_path, \"w\") as f:\n",
    "    f.write(data_yml)\n",
    "\n",
    "print(f\"\\nData YML Path: {data_yml_path}\")\n"
   ]
  },
  {
   "cell_type": "code",
   "execution_count": 9,
   "metadata": {},
   "outputs": [
    {
     "name": "stdout",
     "output_type": "stream",
     "text": [
      "<supervision.dataset.core.DetectionDataset object at 0x7fe6e5466a90>\n",
      "0\n"
     ]
    },
    {
     "data": {
      "text/plain": [
       "['CFCBK', 'FCBK', 'Zigzag']"
      ]
     },
     "execution_count": 9,
     "metadata": {},
     "output_type": "execute_result"
    }
   ],
   "source": [
    "## Supervision dataset\n",
    "sv_dataset=sv.DetectionDataset.from_yolo(gt_image_dir,gt_label_dir,data_yml_path)\n",
    "print(sv_dataset)\n",
    "print(len(sv_dataset))\n",
    "sv_dataset.classes"
   ]
  },
  {
   "cell_type": "code",
   "execution_count": null,
   "metadata": {},
   "outputs": [
    {
     "data": {
      "application/vnd.jupyter.widget-view+json": {
       "model_id": "d6ab118816164739a3326bc716ef972a",
       "version_major": 2,
       "version_minor": 0
      },
      "text/plain": [
       "0it [00:00, ?it/s]"
      ]
     },
     "metadata": {},
     "output_type": "display_data"
    }
   ],
   "source": [
    "## Yolo model\n",
    "model = YOLO(model_path)\n",
    "\n",
    "targets=[]\n",
    "predictions=[]\n",
    "for name,_,gt_detection in tqdm(sv_dataset):\n",
    "    file_name=os.path.splitext(os.path.basename(name))[0]\n",
    "    # prediction_path=os.path.join(prediction_dir,f\"{file_name}.txt\")\n",
    "    ultralytics_result=model(name,imgsz=640,iou=0.33,conf=0.01,exist_ok=True,save_txt=True,max_det=300,name=result_dir, verbose=False)[0]\n",
    "    sv_detection=sv.Detections.from_ultralytics(ultralytics_result)\n",
    "    targets.append(gt_detection)\n",
    "    predictions.append(sv_detection)"
   ]
  },
  {
   "cell_type": "code",
   "execution_count": null,
   "metadata": {},
   "outputs": [
    {
     "name": "stdout",
     "output_type": "stream",
     "text": [
      "Matched classes: []\n",
      "class_wise_mAP: [0, 0, 0]\n",
      "class_wise_mAP: []\n",
      "class_agnostic_result: []\n"
     ]
    }
   ],
   "source": [
    "## mAP calculation (non-class agnostic)\n",
    "mAP_metric = MeanAveragePrecision(class_agnostic=False)\n",
    "mAP_result=mAP_metric.update(predictions,targets).compute()\n",
    "matched_classes=mAP_result.matched_classes.tolist()\n",
    "print(f\"Matched classes: {matched_classes}\")\n",
    "\n",
    "# Extract mAP values\n",
    "mAP_50_95 = mAP_result.map50_95  # mAP 50:95\n",
    "mAP_50 = mAP_result.map50  # mAP 50\n",
    "mAP_75 = mAP_result.map75  # mAP 75\n",
    "print(f\"mAP 50:95: {mAP_50_95}, mAP 50: {mAP_50}, mAP 75: {mAP_75}\")\n",
    "\n",
    "# Extract class-wise mAP values\n",
    "num_classes=3\n",
    "final_class_wise_mAP = [0]*num_classes\n",
    "class_wise_mAP=mAP_result.ap_per_class[:,0].tolist()\n",
    "for cls, mAP in zip(matched_classes, class_wise_mAP):\n",
    "    print(f\"cls: {cls}, mAP: {mAP}\")\n",
    "    final_class_wise_mAP[cls] = mAP\n",
    "\n",
    "# Compute class-agnostic mAP\n",
    "mAP_metric_agnostic = MeanAveragePrecision(class_agnostic=True)\n",
    "mAP_result_agnostic = mAP_metric_agnostic.update(predictions, targets).compute()\n",
    "# Extract class-agnostic mAP values\n",
    "mAP_50_95_agnostic = mAP_result_agnostic.map50_95  # mAP 50:95\n",
    "mAP_50_agnostic = mAP_result_agnostic.map50  # mAP 50\n",
    "mAP_75_agnostic = mAP_result_agnostic.map75  # mAP 75\n",
    "print(f\"CA mAP 50:95: {mAP_50_95_agnostic}, CA mAP 50: {mAP_50_agnostic}, CA mAP 75: {mAP_75_agnostic}\")"
   ]
  },
  {
   "cell_type": "code",
   "execution_count": null,
   "metadata": {},
   "outputs": [],
   "source": [
    "# Calculate weighted mAP\n",
    "weights = pd.Series(np.concatenate)\n",
    "weights = pd.Series(np.concatenate([target.class_id for target in targets])).value_counts()\n",
    "weight_sum = (1/weights).values.sum()\n",
    "weight_mapping = {\"CFCBK\": 1/weights.get(0, 0), \"FCBK\": 1/weights.get(1, 0), \"Zigzag\": 1/weights.get(2, 0)}\n",
    "print(f\" Mapping: {weight_mapping}\")\n",
    "print(f\"Weight Sum: {weight_sum}\")\n",
    "\n",
    "weighted_mAP = np.sum([weight_mapping[cls]*mAP for cls, mAP in zip(matched_classes, class_wise_mAP)]) / weight_sum\n",
    "print(f\"Weighted mAP: {weighted_mAP}\")"
   ]
  },
  {
   "cell_type": "code",
   "execution_count": null,
   "metadata": {},
   "outputs": [],
   "source": [
    "index = pd.MultiIndex.from_tuples([], names=[\"Base State\", \"class_count\", \"Target State\", \"Epochs\"])\n",
    "result_df = pd.DataFrame(columns=[\"CFCBK\", \"FCBK\", \"Zigzag\", \"Weighted mAP\",\n",
    "                                   \"mAP 50:95\", \"mAP 50\", \"mAP 75\", \n",
    "                                   \"CA mAP 50:95\", \"CA mAP 50\", \"CA mAP 75\"], \n",
    "                                   index=index)\n",
    "\n",
    "result_df.loc[(base_state, class_count, target_state, epochs), :] = [f\"{x:.6f}\" for x in final_class_wise_mAP + [weighted_mAP, mAP_50_95, mAP_50, mAP_75, mAP_50_95_agnostic, mAP_50_agnostic, mAP_75_agnostic]]\n",
    "display(result_df)"
   ]
  },
  {
   "cell_type": "code",
   "execution_count": null,
   "metadata": {},
   "outputs": [],
   "source": [
    "# output_csv_path = f\"{home_dir}result_csv/different_model_performance_cyclegan.csv\"\n",
    "output_csv_path = "
   ]
  },
  {
   "cell_type": "code",
   "execution_count": null,
   "metadata": {},
   "outputs": [],
   "source": [
    "append_to_csv = False\n",
    "if append_to_csv:\n",
    "    if os.path.exists(output_csv_path):\n",
    "        result_df.to_csv(output_csv_path, mode='a', header=False)\n",
    "        print(f\"Results appended to {output_csv_path}\")\n",
    "    else:\n",
    "        result_df.to_csv(output_csv_path, header=True)\n",
    "        print(f\"Results saved to {output_csv_path}\")\n",
    "    "
   ]
  },
  {
   "cell_type": "code",
   "execution_count": null,
   "metadata": {},
   "outputs": [],
   "source": [
    "mAP_df = pd.read_csv(output_csv_path)\n",
    "display(mAP_df)"
   ]
  },
  {
   "cell_type": "code",
   "execution_count": null,
   "metadata": {},
   "outputs": [],
   "source": [
    "display(mAP_df.style.background_gradient(cmap='viridis', axis=0))"
   ]
  },
  {
   "cell_type": "code",
   "execution_count": null,
   "metadata": {},
   "outputs": [],
   "source": []
  },
  {
   "cell_type": "code",
   "execution_count": null,
   "metadata": {},
   "outputs": [],
   "source": []
  },
  {
   "cell_type": "code",
   "execution_count": null,
   "metadata": {},
   "outputs": [],
   "source": []
  }
 ],
 "metadata": {
  "kernelspec": {
   "display_name": ".venv (3.8.10)",
   "language": "python",
   "name": "python3"
  },
  "language_info": {
   "codemirror_mode": {
    "name": "ipython",
    "version": 3
   },
   "file_extension": ".py",
   "mimetype": "text/x-python",
   "name": "python",
   "nbconvert_exporter": "python",
   "pygments_lexer": "ipython3",
   "version": "3.8.10"
  }
 },
 "nbformat": 4,
 "nbformat_minor": 2
}
