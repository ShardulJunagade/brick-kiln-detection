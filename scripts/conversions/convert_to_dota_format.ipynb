{
 "cells": [
  {
   "cell_type": "code",
   "execution_count": 4,
   "metadata": {},
   "outputs": [],
   "source": [
    "import os\n",
    "from tqdm import tqdm\n",
    "\n",
    "class_mapping = {0: \"CFCBK\", 1: \"FCBK\", 2: \"Zigzag\"}"
   ]
  },
  {
   "cell_type": "code",
   "execution_count": 5,
   "metadata": {},
   "outputs": [],
   "source": [
    "def convert_to_dota_format(input_path, output_path, image_width, image_height):\n",
    "\twith open(input_path, \"r\") as infile, open(output_path, \"w\") as outfile:\n",
    "\t\tfor line in infile:\n",
    "\t\t\tvalues = line.strip().split()\n",
    "\t\t\tclass_id = int(values[0])  # First value is the class ID\n",
    "\t\t\tcoordinates = list(map(float, values[1:9]))  # Next 8 values are normalized coordinates\n",
    "\n",
    "\t\t\t# Denormalize the coordinates to absolute pixel values\n",
    "\t\t\tdenormalized_coords = [\n",
    "\t\t\t\tint(coordinates[i] * (image_width if i % 2 == 0 else image_height)) + 0.0\n",
    "\t\t\t\tfor i in range(8)\n",
    "\t\t\t]\n",
    "\n",
    "\t\t\tclass_name = class_mapping.get(class_id, \"UNKNOWN\")\n",
    "\t\t\t# Format the line in DOTA format\n",
    "\t\t\tdota_line = \" \".join(map(str, denormalized_coords)) + f\" {class_name} 0\\n\"\n",
    "\t\t\toutfile.write(dota_line)\n",
    "\n",
    "def process_folder(input_folder, output_folder, image_width, image_height):\n",
    "\tif not os.path.exists(input_folder):\n",
    "\t\traise FileNotFoundError(f\"Input folder '{input_folder}' not found\")\n",
    "\tos.makedirs(output_folder, exist_ok=True)\n",
    "\tfiles = [f for f in os.listdir(input_folder) if f.endswith(\".txt\")]\n",
    "\tfiles = sorted(files)\n",
    "\tfor file_name in tqdm(files, desc=\"Converting Files\", unit=\"file\"):\n",
    "\t\tinput_path = os.path.join(input_folder, file_name)\n",
    "\t\toutput_path = os.path.join(output_folder, file_name)\n",
    "\t\tconvert_to_dota_format(input_path, output_path, image_width, image_height)"
   ]
  },
  {
   "cell_type": "code",
   "execution_count": 6,
   "metadata": {},
   "outputs": [
    {
     "name": "stderr",
     "output_type": "stream",
     "text": [
      "Converting Files: 100%|██████████| 641/641 [00:00<00:00, 7062.81file/s]\n"
     ]
    },
    {
     "name": "stdout",
     "output_type": "stream",
     "text": [
      "Processed folder: /home/shardul.junagade/my-work/domain-adaptation-brick-kilns/data/thera_rdn_pro/bihar_4x/labels -> /home/shardul.junagade/my-work/domain-adaptation-brick-kilns/data/thera_rdn_pro/bihar_4x/annfiles\n",
      "641 files found\n",
      "641 files converted\n"
     ]
    },
    {
     "name": "stderr",
     "output_type": "stream",
     "text": [
      "Converting Files: 100%|██████████| 687/687 [00:00<00:00, 13531.09file/s]\n"
     ]
    },
    {
     "name": "stdout",
     "output_type": "stream",
     "text": [
      "Processed folder: /home/shardul.junagade/my-work/domain-adaptation-brick-kilns/data/thera_rdn_pro/test_bihar_4x/labels -> /home/shardul.junagade/my-work/domain-adaptation-brick-kilns/data/thera_rdn_pro/test_bihar_4x/annfiles\n",
      "687 files found\n",
      "687 files converted\n"
     ]
    },
    {
     "name": "stderr",
     "output_type": "stream",
     "text": [
      "Converting Files: 100%|██████████| 586/586 [00:00<00:00, 6121.88file/s]\n"
     ]
    },
    {
     "name": "stdout",
     "output_type": "stream",
     "text": [
      "Processed folder: /home/shardul.junagade/my-work/domain-adaptation-brick-kilns/data/thera_rdn_pro/haryana_4x/labels -> /home/shardul.junagade/my-work/domain-adaptation-brick-kilns/data/thera_rdn_pro/haryana_4x/annfiles\n",
      "586 files found\n",
      "586 files converted\n"
     ]
    },
    {
     "name": "stderr",
     "output_type": "stream",
     "text": [
      "Converting Files: 100%|██████████| 55/55 [00:00<00:00, 6831.32file/s]\n"
     ]
    },
    {
     "name": "stdout",
     "output_type": "stream",
     "text": [
      "Processed folder: /home/shardul.junagade/my-work/domain-adaptation-brick-kilns/data/thera_rdn_pro/delhi_ncr_4x/labels -> /home/shardul.junagade/my-work/domain-adaptation-brick-kilns/data/thera_rdn_pro/delhi_ncr_4x/annfiles\n",
      "55 files found\n",
      "55 files converted\n"
     ]
    },
    {
     "name": "stderr",
     "output_type": "stream",
     "text": [
      "Converting Files: 100%|██████████| 30/30 [00:00<00:00, 9020.66file/s]"
     ]
    },
    {
     "name": "stdout",
     "output_type": "stream",
     "text": [
      "Processed folder: /home/shardul.junagade/my-work/domain-adaptation-brick-kilns/data/thera_rdn_pro/wb_small_airshed_4x/labels -> /home/shardul.junagade/my-work/domain-adaptation-brick-kilns/data/thera_rdn_pro/wb_small_airshed_4x/annfiles\n",
      "30 files found\n",
      "30 files converted\n"
     ]
    },
    {
     "name": "stderr",
     "output_type": "stream",
     "text": [
      "\n"
     ]
    }
   ],
   "source": [
    "# img_size = 640\n",
    "# input_folders = [\n",
    "#     \"/home/shardul.junagade/my-work/domain-adaptation-brick-kilns/data/bihar_same_class_count_10_120_1000/labels\",\n",
    "#     \"/home/shardul.junagade/my-work/domain-adaptation-brick-kilns/data/test_bihar_same_class_count_10_120_1000/labels\",\n",
    "#     \"/home/shardul.junagade/my-work/domain-adaptation-brick-kilns/data/haryana_same_class_count_10_120_1000/labels\",\n",
    "#     \"/home/shardul.junagade/my-work/domain-adaptation-brick-kilns/data/m0_obb_without_empty_train/labels\",\n",
    "#     \"/home/shardul.junagade/my-work/domain-adaptation-brick-kilns/data/m0_obb_without_empty_val/labels\",\n",
    "#     \"/home/shardul.junagade/my-work/domain-adaptation-brick-kilns/data/delhi_ncr_small/labels\",\n",
    "#     \"/home/shardul.junagade/my-work/domain-adaptation-brick-kilns/data/wb_small_airshed/labels\",\n",
    "# ]\n",
    "# output_folders = [\n",
    "#     \"/home/shardul.junagade/my-work/domain-adaptation-brick-kilns/data/bihar_same_class_count_10_120_1000/annfiles\",\n",
    "#     \"/home/shardul.junagade/my-work/domain-adaptation-brick-kilns/data/test_bihar_same_class_count_10_120_1000/annfiles\",\n",
    "#     \"/home/shardul.junagade/my-work/domain-adaptation-brick-kilns/data/haryana_same_class_count_10_120_1000/annfiles\",\n",
    "#     \"/home/shardul.junagade/my-work/domain-adaptation-brick-kilns/data/m0_obb_without_empty_train/annfiles\",\n",
    "#     \"/home/shardul.junagade/my-work/domain-adaptation-brick-kilns/data/m0_obb_without_empty_val/annfiles\",\n",
    "#     \"/home/shardul.junagade/my-work/domain-adaptation-brick-kilns/data/delhi_ncr_small/annfiles\",\n",
    "#     \"/home/shardul.junagade/my-work/domain-adaptation-brick-kilns/data/wb_small_airshed/annfiles\",\n",
    "# ]\n",
    "\n",
    "\n",
    "input_folders = [\n",
    "    \"/home/shardul.junagade/my-work/domain-adaptation-brick-kilns/data/thera_rdn_pro/bihar_4x/labels\",\n",
    "    \"/home/shardul.junagade/my-work/domain-adaptation-brick-kilns/data/thera_rdn_pro/test_bihar_4x/labels\",\n",
    "    \"/home/shardul.junagade/my-work/domain-adaptation-brick-kilns/data/thera_rdn_pro/haryana_4x/labels\",\n",
    "    \"/home/shardul.junagade/my-work/domain-adaptation-brick-kilns/data/thera_rdn_pro/delhi_ncr_4x/labels\",\n",
    "    \"/home/shardul.junagade/my-work/domain-adaptation-brick-kilns/data/thera_rdn_pro/wb_small_airshed_4x/labels\",\n",
    "]\n",
    "output_folders = [\n",
    "    \"/home/shardul.junagade/my-work/domain-adaptation-brick-kilns/data/thera_rdn_pro/bihar_4x/annfiles\",\n",
    "    \"/home/shardul.junagade/my-work/domain-adaptation-brick-kilns/data/thera_rdn_pro/test_bihar_4x/annfiles\",\n",
    "    \"/home/shardul.junagade/my-work/domain-adaptation-brick-kilns/data/thera_rdn_pro/haryana_4x/annfiles\",\n",
    "    \"/home/shardul.junagade/my-work/domain-adaptation-brick-kilns/data/thera_rdn_pro/delhi_ncr_4x/annfiles\",\n",
    "    \"/home/shardul.junagade/my-work/domain-adaptation-brick-kilns/data/thera_rdn_pro/wb_small_airshed_4x/annfiles\",\n",
    "]\n",
    "img_size = 2560\n",
    "\n",
    "\n",
    "for input_folder, output_folder in zip(input_folders, output_folders):\n",
    "    try:\n",
    "        process_folder(input_folder, output_folder, img_size, img_size)\n",
    "        print(f\"Processed folder: {input_folder} -> {output_folder}\")\n",
    "        print(len(os.listdir(input_folder)), \"files found\")\n",
    "        print(len(os.listdir(output_folder)), \"files converted\")\n",
    "    except Exception as e:\n",
    "        print(f\"Error processing folder {input_folder}: {e}\")"
   ]
  },
  {
   "cell_type": "code",
   "execution_count": null,
   "metadata": {},
   "outputs": [],
   "source": []
  }
 ],
 "metadata": {
  "kernelspec": {
   "display_name": "thera",
   "language": "python",
   "name": "python3"
  },
  "language_info": {
   "codemirror_mode": {
    "name": "ipython",
    "version": 3
   },
   "file_extension": ".py",
   "mimetype": "text/x-python",
   "name": "python",
   "nbconvert_exporter": "python",
   "pygments_lexer": "ipython3",
   "version": "3.10.16"
  }
 },
 "nbformat": 4,
 "nbformat_minor": 2
}
