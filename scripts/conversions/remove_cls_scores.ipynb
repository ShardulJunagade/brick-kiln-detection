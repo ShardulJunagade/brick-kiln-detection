{
 "cells": [
  {
   "cell_type": "code",
   "execution_count": 6,
   "id": "d46e5b24",
   "metadata": {},
   "outputs": [
    {
     "name": "stderr",
     "output_type": "stream",
     "text": [
      "100%|██████████| 119/119 [00:00<00:00, 9496.06it/s]\n"
     ]
    }
   ],
   "source": [
    "import os\n",
    "from tqdm import tqdm\n",
    "\n",
    "\n",
    "def remove_cls_scores(input_dir, output_dir):\n",
    "    if not os.path.exists(output_dir):\n",
    "        os.makedirs(output_dir)\n",
    "\n",
    "    for file in tqdm(os.listdir(input_dir)):\n",
    "        if file.endswith(\".txt\"):\n",
    "            input_file_path = os.path.join(input_dir, file)\n",
    "            output_file_path = os.path.join(output_dir, file)\n",
    "\n",
    "            with open(input_file_path, \"r\") as input_file:\n",
    "                for line in input_file:\n",
    "                    values = line.strip().split()\n",
    "                    # print(len(values))\n",
    "                    if len(values) ==10:\n",
    "                        values[9] = \"0\"\n",
    "                    with open(output_file_path, \"a\") as output_file:\n",
    "                        output_file.write(\" \".join(values) + \"\\n\")\n",
    "\n",
    "\n",
    "input_dir = \"/home/shardul.junagade/my-work/domain-adaptation-brick-kilns/RHINO/results-swint/gen_labels_delhi_CG_bks/annfiles\"\n",
    "output_dir = \"/home/shardul.junagade/my-work/domain-adaptation-brick-kilns/RHINO/data/grid_data/gen_delhi_CG_bks/annfiles\"\n",
    "\n",
    "\n",
    "remove_cls_scores(input_dir, output_dir)"
   ]
  },
  {
   "cell_type": "code",
   "execution_count": null,
   "id": "2880ef47",
   "metadata": {},
   "outputs": [],
   "source": []
  }
 ],
 "metadata": {
  "kernelspec": {
   "display_name": ".venv (3.8.10)",
   "language": "python",
   "name": "python3"
  },
  "language_info": {
   "codemirror_mode": {
    "name": "ipython",
    "version": 3
   },
   "file_extension": ".py",
   "mimetype": "text/x-python",
   "name": "python",
   "nbconvert_exporter": "python",
   "pygments_lexer": "ipython3",
   "version": "3.8.10"
  }
 },
 "nbformat": 4,
 "nbformat_minor": 5
}
