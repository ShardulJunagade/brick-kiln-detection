{
 "cells": [
  {
   "cell_type": "code",
   "execution_count": 1,
   "metadata": {},
   "outputs": [
    {
     "name": "stdout",
     "output_type": "stream",
     "text": [
      "Number of processors:  64\n"
     ]
    }
   ],
   "source": [
    "import os\n",
    "from PIL import Image\n",
    "from multiprocessing import Pool, cpu_count\n",
    "from tqdm import tqdm\n",
    "print(\"Number of processors: \", cpu_count())"
   ]
  },
  {
   "cell_type": "code",
   "execution_count": 2,
   "metadata": {},
   "outputs": [],
   "source": [
    "def convert_image_to_png(file_info):\n",
    "    \"\"\" Convert a single image file (.tif, .jpg, .jpeg) to .png \"\"\"\n",
    "    input_path, output_path = file_info\n",
    "    try:\n",
    "        with Image.open(input_path) as img:\n",
    "            rgb_img = img.convert('RGB')\n",
    "            rgb_img.save(output_path, 'PNG', quality=95)\n",
    "    except Exception as e:\n",
    "        print(f\"Error converting {input_path}: {e}\")\n",
    "\n",
    "def process_folder(input_folder, output_folder, num_workers=10):\n",
    "    \"\"\" Convert all .tif, .jpg, and .jpeg images in a folder using multiprocessing \"\"\"\n",
    "    os.makedirs(output_folder, exist_ok=True)\n",
    "    \n",
    "    # Get list of .tif, .jpg, and .jpeg files\n",
    "    image_files = [f for f in os.listdir(input_folder) if f.endswith(('.tif', '.tiff', '.jpg', '.jpeg'))]\n",
    "    image_files.sort()\n",
    "\n",
    "    # Create input-output path pairs\n",
    "    file_info_list = [(os.path.join(input_folder, f), os.path.join(output_folder, os.path.splitext(f)[0] + '.png')) for f in image_files]\n",
    "\n",
    "    # Use multiprocessing Pool for parallel execution\n",
    "    with Pool(num_workers) as pool:\n",
    "        list(tqdm(pool.imap_unordered(convert_image_to_png, file_info_list), total=len(file_info_list), desc=\"Converting images\", unit=\"file\"))\n"
   ]
  },
  {
   "cell_type": "code",
   "execution_count": 3,
   "metadata": {},
   "outputs": [
    {
     "name": "stdout",
     "output_type": "stream",
     "text": [
      "Using 25 workers\n"
     ]
    }
   ],
   "source": [
    "num_workers = int(cpu_count() * 0.4)\n",
    "print(f\"Using {num_workers} workers\")"
   ]
  },
  {
   "cell_type": "code",
   "execution_count": 4,
   "metadata": {},
   "outputs": [],
   "source": [
    "# input_folders = [\n",
    "#     \"/home/patel_zeel/kiln_compass_24/data/bihar/images\",\n",
    "#     \"/home/patel_zeel/kiln_compass_24/data/haryana/images\",\n",
    "#     \"/home/patel_zeel/kiln_compass_24/data/punjab/images\",\n",
    "#     \"/home/patel_zeel/kiln_compass_24/data/uttar_pradesh/images\",\n",
    "#     \"/home/patel_zeel/kiln_compass_24/data/west_bengal/images\"\n",
    "#     ]\n",
    "# output_folders = [\n",
    "#     \"/home/shardul.junagade/my-work/domain-adaptation-brick-kilns/RHINO/data/5states/bihar/images\",\n",
    "#     \"/home/shardul.junagade/my-work/domain-adaptation-brick-kilns/RHINO/data/5states/haryana/images\",\n",
    "#     \"/home/shardul.junagade/my-work/domain-adaptation-brick-kilns/RHINO/data/5states/punjab/images\",\n",
    "#     \"/home/shardul.junagade/my-work/domain-adaptation-brick-kilns/RHINO/data/5states/uttar_pradesh/images\",\n",
    "#     \"/home/shardul.junagade/my-work/domain-adaptation-brick-kilns/RHINO/data/5states/west_bengal/images\"\n",
    "#     ]\n",
    "# input_folders = [\n",
    "#     \"/home/shardul.junagade/my-work/domain-adaptation-brick-kilns/data/thera_rdn_pro/bihar_4x/images\",\n",
    "#     \"/home/shardul.junagade/my-work/domain-adaptation-brick-kilns/data/thera_rdn_pro/test_bihar_4x/images\",\n",
    "#     \"/home/shardul.junagade/my-work/domain-adaptation-brick-kilns/data/thera_rdn_pro/haryana_4x/images\",\n",
    "#     \"/home/shardul.junagade/my-work/domain-adaptation-brick-kilns/data/thera_rdn_pro/delhi_ncr_4x/images\",\n",
    "#     \"/home/shardul.junagade/my-work/domain-adaptation-brick-kilns/data/thera_rdn_pro/wb_small_airshed_4x/images\",\n",
    "# ]\n",
    "# output_folders = [\n",
    "#     \"/home/shardul.junagade/my-work/domain-adaptation-brick-kilns/data/thera_rdn_pro/bihar_4x/images_png\",\n",
    "#     \"/home/shardul.junagade/my-work/domain-adaptation-brick-kilns/data/thera_rdn_pro/test_bihar_4x/images_png\",\n",
    "#     \"/home/shardul.junagade/my-work/domain-adaptation-brick-kilns/data/thera_rdn_pro/haryana_4x/images_png\",\n",
    "#     \"/home/shardul.junagade/my-work/domain-adaptation-brick-kilns/data/thera_rdn_pro/delhi_ncr_4x/images_png\",\n",
    "#     \"/home/shardul.junagade/my-work/domain-adaptation-brick-kilns/data/thera_rdn_pro/wb_small_airshed_4x/images_png\",\n",
    "# ]\n",
    "# \n",
    "\n",
    "input_folders = [\n",
    "    \"/home/shardul.junagade/my-work/domain-adaptation-brick-kilns/data/bihar_same_class_count_10_120_1000/images\",\n",
    "    \"/home/shardul.junagade/my-work/domain-adaptation-brick-kilns/data/test_bihar_same_class_count_10_120_1000/images\",\n",
    "    \"/home/shardul.junagade/my-work/domain-adaptation-brick-kilns/data/haryana_same_class_count_10_120_1000/images\",\n",
    "    \"/home/shardul.junagade/my-work/domain-adaptation-brick-kilns/data/m0_obb_without_empty_train/images\",\n",
    "    \"/home/shardul.junagade/my-work/domain-adaptation-brick-kilns/data/m0_obb_without_empty_val/images\",\n",
    "    \"/home/shardul.junagade/my-work/domain-adaptation-brick-kilns/data/delhi_ncr_small/images\",\n",
    "    \"/home/shardul.junagade/my-work/domain-adaptation-brick-kilns/data/wb_small_airshed/images\",\n",
    "]\n",
    "output_folders = [\n",
    "    \"/home/shardul.junagade/my-work/domain-adaptation-brick-kilns/data/bihar_same_class_count_10_120_1000/images_png\",\n",
    "    \"/home/shardul.junagade/my-work/domain-adaptation-brick-kilns/data/test_bihar_same_class_count_10_120_1000/images_png\",\n",
    "    \"/home/shardul.junagade/my-work/domain-adaptation-brick-kilns/data/haryana_same_class_count_10_120_1000/images_png\",\n",
    "    \"/home/shardul.junagade/my-work/domain-adaptation-brick-kilns/data/m0_obb_without_empty_train/images_png\",\n",
    "    \"/home/shardul.junagade/my-work/domain-adaptation-brick-kilns/data/m0_obb_without_empty_val/images_png\",\n",
    "    \"/home/shardul.junagade/my-work/domain-adaptation-brick-kilns/data/delhi_ncr_small/images_png\",\n",
    "    \"/home/shardul.junagade/my-work/domain-adaptation-brick-kilns/data/wb_small_airshed/images_png\",\n",
    "]"
   ]
  },
  {
   "cell_type": "code",
   "execution_count": 5,
   "metadata": {},
   "outputs": [
    {
     "name": "stderr",
     "output_type": "stream",
     "text": [
      "Converting images: 100%|██████████| 641/641 [00:02<00:00, 278.86file/s]"
     ]
    },
    {
     "name": "stdout",
     "output_type": "stream",
     "text": [
      "641\n",
      "641\n"
     ]
    },
    {
     "name": "stderr",
     "output_type": "stream",
     "text": [
      "\n",
      "Converting images: 100%|██████████| 687/687 [00:02<00:00, 279.81file/s]"
     ]
    },
    {
     "name": "stdout",
     "output_type": "stream",
     "text": [
      "687\n",
      "687\n"
     ]
    },
    {
     "name": "stderr",
     "output_type": "stream",
     "text": [
      "\n",
      "Converting images: 100%|██████████| 586/586 [00:02<00:00, 247.08file/s]\n"
     ]
    },
    {
     "name": "stdout",
     "output_type": "stream",
     "text": [
      "586\n",
      "586\n"
     ]
    },
    {
     "name": "stderr",
     "output_type": "stream",
     "text": [
      "Converting images: 100%|██████████| 357/357 [00:01<00:00, 196.77file/s]"
     ]
    },
    {
     "name": "stdout",
     "output_type": "stream",
     "text": [
      "357\n",
      "357\n"
     ]
    },
    {
     "name": "stderr",
     "output_type": "stream",
     "text": [
      "\n",
      "Converting images: 100%|██████████| 84/84 [00:00<00:00, 128.03file/s]"
     ]
    },
    {
     "name": "stdout",
     "output_type": "stream",
     "text": [
      "84\n",
      "84\n"
     ]
    },
    {
     "name": "stderr",
     "output_type": "stream",
     "text": [
      "\n",
      "Converting images: 100%|██████████| 119/119 [00:00<00:00, 218.16file/s]"
     ]
    },
    {
     "name": "stdout",
     "output_type": "stream",
     "text": [
      "119\n",
      "119\n"
     ]
    },
    {
     "name": "stderr",
     "output_type": "stream",
     "text": [
      "\n",
      "Converting images: 100%|██████████| 77/77 [00:00<00:00, 190.22file/s]\n"
     ]
    },
    {
     "name": "stdout",
     "output_type": "stream",
     "text": [
      "77\n",
      "77\n"
     ]
    }
   ],
   "source": [
    "for i in range(len(input_folders)):\n",
    "    process_folder(input_folders[i], output_folders[i], num_workers)\n",
    "    print(len(os.listdir(input_folders[i])))\n",
    "    print(len(os.listdir(output_folders[i])))\n"
   ]
  },
  {
   "cell_type": "code",
   "execution_count": null,
   "metadata": {},
   "outputs": [],
   "source": []
  },
  {
   "cell_type": "code",
   "execution_count": null,
   "metadata": {},
   "outputs": [],
   "source": []
  },
  {
   "cell_type": "code",
   "execution_count": null,
   "metadata": {},
   "outputs": [],
   "source": []
  },
  {
   "cell_type": "code",
   "execution_count": 5,
   "metadata": {},
   "outputs": [],
   "source": [
    "# # Without parallel processing\n",
    "\n",
    "# import os\n",
    "# from PIL import Image\n",
    "# from tqdm import tqdm\n",
    "\n",
    "# def convert_tif_to_png(input_folder, output_folder):\n",
    "# \t\"\"\"\n",
    "# \tConvert all .tif images in the input folder to .png format and save them in the output folder.\n",
    "# \t\"\"\"\n",
    "# \t# Create the output folder if it doesn't exist\n",
    "# \tos.makedirs(output_folder, exist_ok=True)\n",
    "\n",
    "# \ttif_files = [f for f in os.listdir(input_folder) if f.endswith(('.tif', '.tiff'))]\n",
    "# \ttif_files.sort()\n",
    "\n",
    "# \t# Loop through all .tif/.tiff files with progress bar\n",
    "# \tfor filename in tqdm(tif_files, desc=\"Converting images\", unit=\"file\"):\n",
    "# \t\tinput_path = os.path.join(input_folder, filename)\n",
    "# \t\toutput_path = os.path.join(output_folder, os.path.splitext(filename)[0] + '.png')\n",
    "\n",
    "# \t\ttry:\n",
    "# \t\t\t# Open the .tif image and convert it to RGB mode\n",
    "# \t\t\twith Image.open(input_path) as img:\n",
    "# \t\t\t\trgb_img = img.convert('RGB')\n",
    "# \t\t\t\trgb_img.save(output_path, 'PNG', quality=95)  # Save as .png with high quality\n",
    "# \t\texcept Exception as e:\n",
    "# \t\t\tprint(f\"\\nError converting {filename}: {e}\")"
   ]
  }
 ],
 "metadata": {
  "kernelspec": {
   "display_name": "thera",
   "language": "python",
   "name": "python3"
  },
  "language_info": {
   "codemirror_mode": {
    "name": "ipython",
    "version": 3
   },
   "file_extension": ".py",
   "mimetype": "text/x-python",
   "name": "python",
   "nbconvert_exporter": "python",
   "pygments_lexer": "ipython3",
   "version": "3.10.16"
  }
 },
 "nbformat": 4,
 "nbformat_minor": 2
}
