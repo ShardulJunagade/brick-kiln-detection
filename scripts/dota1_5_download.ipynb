{
 "cells": [
  {
   "cell_type": "code",
   "execution_count": 1,
   "metadata": {},
   "outputs": [
    {
     "name": "stdout",
     "output_type": "stream",
     "text": [
      "Requirement already satisfied: openxlab in /home/shardul.junagade/.conda/envs/shardul_env/lib/python3.12/site-packages (0.1.2)\n",
      "Requirement already satisfied: filelock~=3.14.0 in /home/shardul.junagade/.conda/envs/shardul_env/lib/python3.12/site-packages (from openxlab) (3.14.0)\n",
      "Requirement already satisfied: oss2~=2.17.0 in /home/shardul.junagade/.conda/envs/shardul_env/lib/python3.12/site-packages (from openxlab) (2.17.0)\n",
      "Requirement already satisfied: packaging~=24.0 in /home/shardul.junagade/.conda/envs/shardul_env/lib/python3.12/site-packages (from openxlab) (24.2)\n",
      "Requirement already satisfied: pytz~=2023.3 in /home/shardul.junagade/.conda/envs/shardul_env/lib/python3.12/site-packages (from openxlab) (2023.4)\n",
      "Requirement already satisfied: pyyaml~=6.0 in /home/shardul.junagade/.conda/envs/shardul_env/lib/python3.12/site-packages (from openxlab) (6.0.2)\n",
      "Requirement already satisfied: requests~=2.28.2 in /home/shardul.junagade/.conda/envs/shardul_env/lib/python3.12/site-packages (from openxlab) (2.28.2)\n",
      "Requirement already satisfied: rich~=13.4.2 in /home/shardul.junagade/.conda/envs/shardul_env/lib/python3.12/site-packages (from openxlab) (13.4.2)\n",
      "Requirement already satisfied: setuptools~=60.2.0 in /home/shardul.junagade/.conda/envs/shardul_env/lib/python3.12/site-packages (from openxlab) (60.2.0)\n",
      "Requirement already satisfied: tqdm~=4.65.0 in /home/shardul.junagade/.conda/envs/shardul_env/lib/python3.12/site-packages (from openxlab) (4.65.2)\n",
      "Requirement already satisfied: crcmod>=1.7 in /home/shardul.junagade/.conda/envs/shardul_env/lib/python3.12/site-packages (from oss2~=2.17.0->openxlab) (1.7)\n",
      "Requirement already satisfied: pycryptodome>=3.4.7 in /home/shardul.junagade/.conda/envs/shardul_env/lib/python3.12/site-packages (from oss2~=2.17.0->openxlab) (3.21.0)\n",
      "Requirement already satisfied: aliyun-python-sdk-kms>=2.4.1 in /home/shardul.junagade/.conda/envs/shardul_env/lib/python3.12/site-packages (from oss2~=2.17.0->openxlab) (2.16.5)\n",
      "Requirement already satisfied: aliyun-python-sdk-core>=2.13.12 in /home/shardul.junagade/.conda/envs/shardul_env/lib/python3.12/site-packages (from oss2~=2.17.0->openxlab) (2.16.0)\n",
      "Requirement already satisfied: six in /home/shardul.junagade/.conda/envs/shardul_env/lib/python3.12/site-packages (from oss2~=2.17.0->openxlab) (1.17.0)\n",
      "Requirement already satisfied: charset-normalizer<4,>=2 in /home/shardul.junagade/.conda/envs/shardul_env/lib/python3.12/site-packages (from requests~=2.28.2->openxlab) (3.4.1)\n",
      "Requirement already satisfied: idna<4,>=2.5 in /home/shardul.junagade/.conda/envs/shardul_env/lib/python3.12/site-packages (from requests~=2.28.2->openxlab) (3.10)\n",
      "Requirement already satisfied: urllib3<1.27,>=1.21.1 in /home/shardul.junagade/.conda/envs/shardul_env/lib/python3.12/site-packages (from requests~=2.28.2->openxlab) (1.26.20)\n",
      "Requirement already satisfied: certifi>=2017.4.17 in /home/shardul.junagade/.conda/envs/shardul_env/lib/python3.12/site-packages (from requests~=2.28.2->openxlab) (2024.12.14)\n",
      "Requirement already satisfied: markdown-it-py>=2.2.0 in /home/shardul.junagade/.conda/envs/shardul_env/lib/python3.12/site-packages (from rich~=13.4.2->openxlab) (3.0.0)\n",
      "Requirement already satisfied: pygments<3.0.0,>=2.13.0 in /home/shardul.junagade/.conda/envs/shardul_env/lib/python3.12/site-packages (from rich~=13.4.2->openxlab) (2.19.1)\n",
      "Requirement already satisfied: jmespath<1.0.0,>=0.9.3 in /home/shardul.junagade/.conda/envs/shardul_env/lib/python3.12/site-packages (from aliyun-python-sdk-core>=2.13.12->oss2~=2.17.0->openxlab) (0.10.0)\n",
      "Requirement already satisfied: cryptography>=3.0.0 in /home/shardul.junagade/.conda/envs/shardul_env/lib/python3.12/site-packages (from aliyun-python-sdk-core>=2.13.12->oss2~=2.17.0->openxlab) (44.0.0)\n",
      "Requirement already satisfied: mdurl~=0.1 in /home/shardul.junagade/.conda/envs/shardul_env/lib/python3.12/site-packages (from markdown-it-py>=2.2.0->rich~=13.4.2->openxlab) (0.1.2)\n",
      "Requirement already satisfied: cffi>=1.12 in /home/shardul.junagade/.conda/envs/shardul_env/lib/python3.12/site-packages (from cryptography>=3.0.0->aliyun-python-sdk-core>=2.13.12->oss2~=2.17.0->openxlab) (1.17.1)\n",
      "Requirement already satisfied: pycparser in /home/shardul.junagade/.conda/envs/shardul_env/lib/python3.12/site-packages (from cffi>=1.12->cryptography>=3.0.0->aliyun-python-sdk-core>=2.13.12->oss2~=2.17.0->openxlab) (2.22)\n",
      "Requirement already satisfied: openxlab in /home/shardul.junagade/.conda/envs/shardul_env/lib/python3.12/site-packages (0.1.2)\n",
      "Requirement already satisfied: filelock~=3.14.0 in /home/shardul.junagade/.conda/envs/shardul_env/lib/python3.12/site-packages (from openxlab) (3.14.0)\n",
      "Requirement already satisfied: oss2~=2.17.0 in /home/shardul.junagade/.conda/envs/shardul_env/lib/python3.12/site-packages (from openxlab) (2.17.0)\n",
      "Requirement already satisfied: packaging~=24.0 in /home/shardul.junagade/.conda/envs/shardul_env/lib/python3.12/site-packages (from openxlab) (24.2)\n",
      "Requirement already satisfied: pytz~=2023.3 in /home/shardul.junagade/.conda/envs/shardul_env/lib/python3.12/site-packages (from openxlab) (2023.4)\n",
      "Requirement already satisfied: pyyaml~=6.0 in /home/shardul.junagade/.conda/envs/shardul_env/lib/python3.12/site-packages (from openxlab) (6.0.2)\n",
      "Requirement already satisfied: requests~=2.28.2 in /home/shardul.junagade/.conda/envs/shardul_env/lib/python3.12/site-packages (from openxlab) (2.28.2)\n",
      "Requirement already satisfied: rich~=13.4.2 in /home/shardul.junagade/.conda/envs/shardul_env/lib/python3.12/site-packages (from openxlab) (13.4.2)\n",
      "Requirement already satisfied: setuptools~=60.2.0 in /home/shardul.junagade/.conda/envs/shardul_env/lib/python3.12/site-packages (from openxlab) (60.2.0)\n",
      "Requirement already satisfied: tqdm~=4.65.0 in /home/shardul.junagade/.conda/envs/shardul_env/lib/python3.12/site-packages (from openxlab) (4.65.2)\n",
      "Requirement already satisfied: crcmod>=1.7 in /home/shardul.junagade/.conda/envs/shardul_env/lib/python3.12/site-packages (from oss2~=2.17.0->openxlab) (1.7)\n",
      "Requirement already satisfied: pycryptodome>=3.4.7 in /home/shardul.junagade/.conda/envs/shardul_env/lib/python3.12/site-packages (from oss2~=2.17.0->openxlab) (3.21.0)\n",
      "Requirement already satisfied: aliyun-python-sdk-kms>=2.4.1 in /home/shardul.junagade/.conda/envs/shardul_env/lib/python3.12/site-packages (from oss2~=2.17.0->openxlab) (2.16.5)\n",
      "Requirement already satisfied: aliyun-python-sdk-core>=2.13.12 in /home/shardul.junagade/.conda/envs/shardul_env/lib/python3.12/site-packages (from oss2~=2.17.0->openxlab) (2.16.0)\n",
      "Requirement already satisfied: six in /home/shardul.junagade/.conda/envs/shardul_env/lib/python3.12/site-packages (from oss2~=2.17.0->openxlab) (1.17.0)\n",
      "Requirement already satisfied: charset-normalizer<4,>=2 in /home/shardul.junagade/.conda/envs/shardul_env/lib/python3.12/site-packages (from requests~=2.28.2->openxlab) (3.4.1)\n",
      "Requirement already satisfied: idna<4,>=2.5 in /home/shardul.junagade/.conda/envs/shardul_env/lib/python3.12/site-packages (from requests~=2.28.2->openxlab) (3.10)\n",
      "Requirement already satisfied: urllib3<1.27,>=1.21.1 in /home/shardul.junagade/.conda/envs/shardul_env/lib/python3.12/site-packages (from requests~=2.28.2->openxlab) (1.26.20)\n",
      "Requirement already satisfied: certifi>=2017.4.17 in /home/shardul.junagade/.conda/envs/shardul_env/lib/python3.12/site-packages (from requests~=2.28.2->openxlab) (2024.12.14)\n",
      "Requirement already satisfied: markdown-it-py>=2.2.0 in /home/shardul.junagade/.conda/envs/shardul_env/lib/python3.12/site-packages (from rich~=13.4.2->openxlab) (3.0.0)\n",
      "Requirement already satisfied: pygments<3.0.0,>=2.13.0 in /home/shardul.junagade/.conda/envs/shardul_env/lib/python3.12/site-packages (from rich~=13.4.2->openxlab) (2.19.1)\n",
      "Requirement already satisfied: jmespath<1.0.0,>=0.9.3 in /home/shardul.junagade/.conda/envs/shardul_env/lib/python3.12/site-packages (from aliyun-python-sdk-core>=2.13.12->oss2~=2.17.0->openxlab) (0.10.0)\n",
      "Requirement already satisfied: cryptography>=3.0.0 in /home/shardul.junagade/.conda/envs/shardul_env/lib/python3.12/site-packages (from aliyun-python-sdk-core>=2.13.12->oss2~=2.17.0->openxlab) (44.0.0)\n",
      "Requirement already satisfied: mdurl~=0.1 in /home/shardul.junagade/.conda/envs/shardul_env/lib/python3.12/site-packages (from markdown-it-py>=2.2.0->rich~=13.4.2->openxlab) (0.1.2)\n",
      "Requirement already satisfied: cffi>=1.12 in /home/shardul.junagade/.conda/envs/shardul_env/lib/python3.12/site-packages (from cryptography>=3.0.0->aliyun-python-sdk-core>=2.13.12->oss2~=2.17.0->openxlab) (1.17.1)\n",
      "Requirement already satisfied: pycparser in /home/shardul.junagade/.conda/envs/shardul_env/lib/python3.12/site-packages (from cffi>=1.12->cryptography>=3.0.0->aliyun-python-sdk-core>=2.13.12->oss2~=2.17.0->openxlab) (2.22)\n"
     ]
    }
   ],
   "source": [
    "!pip install openxlab #Install\n",
    "\n",
    "!pip install -U openxlab #Upgrade"
   ]
  },
  {
   "cell_type": "code",
   "execution_count": 2,
   "metadata": {},
   "outputs": [
    {
     "name": "stderr",
     "output_type": "stream",
     "text": [
      "AK and SK have been configured. You can set relogin as true to force a relogin.\n"
     ]
    },
    {
     "data": {
      "text/html": [
       "<pre style=\"white-space:pre;overflow-x:auto;line-height:normal;font-family:Menlo,'DejaVu Sans Mono',consolas,'Courier New',monospace\">+-----------+-----------------------------------------------------------------------------------------------------+\n",
       "|<span style=\"color: #008080; text-decoration-color: #008080; font-weight: bold\"> Field     </span>|<span style=\"color: #008080; text-decoration-color: #008080; font-weight: bold\"> Content                                                                                             </span>|\n",
       "+-----------+-----------------------------------------------------------------------------------------------------+\n",
       "| Name      | OpenDataLab/DOTA_V1_dot_5                                                                           |\n",
       "+-----------+-----------------------------------------------------------------------------------------------------+\n",
       "| Introduct | DOTA-v1.5 uses the same images as DOTA-v1.0, but  the  extremely  small  instances  (less  than  10 |\n",
       "| ion       | pixe...                                                                                             |\n",
       "+-----------+-----------------------------------------------------------------------------------------------------+\n",
       "| Author    | Wuhan University, Cornell University, Huazhong University of Science and Technology                 |\n",
       "+-----------+-----------------------------------------------------------------------------------------------------+\n",
       "| Data Type | Image                                                                                               |\n",
       "+-----------+-----------------------------------------------------------------------------------------------------+\n",
       "| Label     | Box2D, Polygon                                                                                      |\n",
       "| Type      |                                                                                                     |\n",
       "+-----------+-----------------------------------------------------------------------------------------------------+\n",
       "| Task Type | Rotated-ObjectDetection                                                                             |\n",
       "+-----------+-----------------------------------------------------------------------------------------------------+\n",
       "| File List |  Total Size: 18.8G                                                                                  |\n",
       "|           |  +---------------------------+---------+                                                            |\n",
       "|           |  |<span style=\"color: #008080; text-decoration-color: #008080\"> File                      </span>|<span style=\"color: #008080; text-decoration-color: #008080\">    Size </span>|                                                            |\n",
       "|           |  +---------------------------+---------+                                                            |\n",
       "|           |  | - /                       |         |                                                            |\n",
       "|           |  +---------------------------+---------+                                                            |\n",
       "|           |  |    - README.md            |   1.65K |                                                            |\n",
       "|           |  +---------------------------+---------+                                                            |\n",
       "|           |  |    - metafile.yaml        | 437.00B |                                                            |\n",
       "|           |  +---------------------------+---------+                                                            |\n",
       "|           |  | - /dsdl/                  |         |                                                            |\n",
       "|           |  +---------------------------+---------+                                                            |\n",
       "|           |  |    - dsdl_RotDet_full.zip |   8.45M |                                                            |\n",
       "|           |  +---------------------------+---------+                                                            |\n",
       "|           |  | - /raw/                   |         |                                                            |\n",
       "|           |  +---------------------------+---------+                                                            |\n",
       "|           |  |    - DOTA_V1.5.tar.gz     |  18.79G |                                                            |\n",
       "|           |  +---------------------------+---------+                                                            |\n",
       "+-----------+-----------------------------------------------------------------------------------------------------+\n",
       "</pre>\n"
      ],
      "text/plain": [
       "+-----------+-----------------------------------------------------------------------------------------------------+\n",
       "|\u001b[1;36m \u001b[0m\u001b[1;36mField\u001b[0m\u001b[1;36m    \u001b[0m\u001b[1;36m \u001b[0m|\u001b[1;36m \u001b[0m\u001b[1;36mContent\u001b[0m\u001b[1;36m                                                                                            \u001b[0m\u001b[1;36m \u001b[0m|\n",
       "+-----------+-----------------------------------------------------------------------------------------------------+\n",
       "| Name      | OpenDataLab/DOTA_V1_dot_5                                                                           |\n",
       "+-----------+-----------------------------------------------------------------------------------------------------+\n",
       "| Introduct | DOTA-v1.5 uses the same images as DOTA-v1.0, but  the  extremely  small  instances  (less  than  10 |\n",
       "| ion       | pixe...                                                                                             |\n",
       "+-----------+-----------------------------------------------------------------------------------------------------+\n",
       "| Author    | Wuhan University, Cornell University, Huazhong University of Science and Technology                 |\n",
       "+-----------+-----------------------------------------------------------------------------------------------------+\n",
       "| Data Type | Image                                                                                               |\n",
       "+-----------+-----------------------------------------------------------------------------------------------------+\n",
       "| Label     | Box2D, Polygon                                                                                      |\n",
       "| Type      |                                                                                                     |\n",
       "+-----------+-----------------------------------------------------------------------------------------------------+\n",
       "| Task Type | Rotated-ObjectDetection                                                                             |\n",
       "+-----------+-----------------------------------------------------------------------------------------------------+\n",
       "| File List |  Total Size: 18.8G                                                                                  |\n",
       "|           |  +---------------------------+---------+                                                            |\n",
       "|           |  |\u001b[36m \u001b[0m\u001b[36mFile                     \u001b[0m\u001b[36m \u001b[0m|\u001b[36m \u001b[0m\u001b[36m   Size\u001b[0m\u001b[36m \u001b[0m|                                                            |\n",
       "|           |  +---------------------------+---------+                                                            |\n",
       "|           |  | - /                       |         |                                                            |\n",
       "|           |  +---------------------------+---------+                                                            |\n",
       "|           |  |    - README.md            |   1.65K |                                                            |\n",
       "|           |  +---------------------------+---------+                                                            |\n",
       "|           |  |    - metafile.yaml        | 437.00B |                                                            |\n",
       "|           |  +---------------------------+---------+                                                            |\n",
       "|           |  | - /dsdl/                  |         |                                                            |\n",
       "|           |  +---------------------------+---------+                                                            |\n",
       "|           |  |    - dsdl_RotDet_full.zip |   8.45M |                                                            |\n",
       "|           |  +---------------------------+---------+                                                            |\n",
       "|           |  | - /raw/                   |         |                                                            |\n",
       "|           |  +---------------------------+---------+                                                            |\n",
       "|           |  |    - DOTA_V1.5.tar.gz     |  18.79G |                                                            |\n",
       "|           |  +---------------------------+---------+                                                            |\n",
       "+-----------+-----------------------------------------------------------------------------------------------------+\n"
      ]
     },
     "metadata": {},
     "output_type": "display_data"
    },
    {
     "data": {
      "text/plain": [
       "{'Name': 'OpenDataLab/DOTA_V1_dot_5',\n",
       " 'Introduction': 'DOTA-v1.5 uses the same images as DOTA-v1.0, but the extremely small instances (less than 10 pixe...',\n",
       " 'Author': 'Wuhan University, Cornell University, Huazhong University of Science and Technology',\n",
       " 'Data Type': 'Image',\n",
       " 'Label Type': 'Box2D, Polygon',\n",
       " 'Task Type': 'Rotated-ObjectDetection',\n",
       " 'File List': {'Total size': '18.8G',\n",
       "  '/': {'README.md': '1.65K', 'metafile.yaml': '437.00B'},\n",
       "  '/dsdl/': {'dsdl_RotDet_full.zip': '8.45M'},\n",
       "  '/raw/': {'DOTA_V1.5.tar.gz': '18.79G'}}}"
      ]
     },
     "execution_count": 2,
     "metadata": {},
     "output_type": "execute_result"
    }
   ],
   "source": [
    "\n",
    "import openxlab\n",
    "openxlab.login(ak=\"ylerxneg00jxaxgv6xmv\", sk=\"ave6jrdgz1dpwblkvwmmkpzp3a5m87jylmokw293\") #Log in and enter the corresponding AK/SK\n",
    "\n",
    "from openxlab.dataset import info\n",
    "info(dataset_repo='OpenDataLab/DOTA_V1_dot_5') #Dataset information viewing and View Dataset File List\n"
   ]
  },
  {
   "cell_type": "code",
   "execution_count": 3,
   "metadata": {},
   "outputs": [
    {
     "data": {
      "text/html": [
       "<pre style=\"white-space:pre;overflow-x:auto;line-height:normal;font-family:Menlo,'DejaVu Sans Mono',consolas,'Courier New',monospace\">Fetching the list of datasets<span style=\"color: #808000; text-decoration-color: #808000\">...</span>\n",
       "</pre>\n"
      ],
      "text/plain": [
       "Fetching the list of datasets\u001b[33m...\u001b[0m\n"
      ]
     },
     "metadata": {},
     "output_type": "display_data"
    },
    {
     "data": {
      "text/html": [
       "<pre style=\"white-space:pre;overflow-x:auto;line-height:normal;font-family:Menlo,'DejaVu Sans Mono',consolas,'Courier New',monospace\">Downloading <span style=\"color: #008080; text-decoration-color: #008080; font-weight: bold\">4</span> files: \n",
       "</pre>\n"
      ],
      "text/plain": [
       "Downloading \u001b[1;36m4\u001b[0m files: \n"
      ]
     },
     "metadata": {},
     "output_type": "display_data"
    },
    {
     "data": {
      "text/html": [
       "<pre style=\"white-space:pre;overflow-x:auto;line-height:normal;font-family:Menlo,'DejaVu Sans Mono',consolas,'Courier New',monospace\"><span style=\"color: #008080; text-decoration-color: #008080; font-weight: bold\">1</span>. <span style=\"color: #800080; text-decoration-color: #800080\">/home/shardul.junagade/my-work/domain-adaptation-brick-kilns/dataset/OpenDataLab___DOTA_V1_dot_5/</span><span style=\"color: #ff00ff; text-decoration-color: #ff00ff\">README.md</span> \n",
       "already exists, jumping to next!\n",
       "</pre>\n"
      ],
      "text/plain": [
       "\u001b[1;36m1\u001b[0m. \u001b[35m/home/shardul.junagade/my-work/domain-adaptation-brick-kilns/dataset/OpenDataLab___DOTA_V1_dot_5/\u001b[0m\u001b[95mREADME.md\u001b[0m \n",
       "already exists, jumping to next!\n"
      ]
     },
     "metadata": {},
     "output_type": "display_data"
    },
    {
     "data": {
      "text/html": [
       "<pre style=\"white-space:pre;overflow-x:auto;line-height:normal;font-family:Menlo,'DejaVu Sans Mono',consolas,'Courier New',monospace\">Total progress: <span style=\"color: #008080; text-decoration-color: #008080; font-weight: bold\">0</span>%, total files:<span style=\"color: #008080; text-decoration-color: #008080; font-weight: bold\">1</span>/<span style=\"color: #008080; text-decoration-color: #008080; font-weight: bold\">4</span>, downloaded size: <span style=\"color: #008080; text-decoration-color: #008080; font-weight: bold\">1.</span>6K, total size: <span style=\"color: #008080; text-decoration-color: #008080; font-weight: bold\">18.</span>8G</pre>\n"
      ],
      "text/plain": [
       "Total progress: \u001b[1;36m0\u001b[0m%, total files:\u001b[1;36m1\u001b[0m/\u001b[1;36m4\u001b[0m, downloaded size: \u001b[1;36m1.\u001b[0m6K, total size: \u001b[1;36m18.\u001b[0m8G"
      ]
     },
     "metadata": {},
     "output_type": "display_data"
    },
    {
     "name": "stdout",
     "output_type": "stream",
     "text": [
      "\u001b[2K\r"
     ]
    },
    {
     "data": {
      "text/html": [
       "<pre style=\"white-space:pre;overflow-x:auto;line-height:normal;font-family:Menlo,'DejaVu Sans Mono',consolas,'Courier New',monospace\"><span style=\"color: #008080; text-decoration-color: #008080; font-weight: bold\">2</span>. \n",
       "<span style=\"color: #800080; text-decoration-color: #800080\">/home/shardul.junagade/my-work/domain-adaptation-brick-kilns/dataset/OpenDataLab___DOTA_V1_dot_5/dsdl/</span><span style=\"color: #ff00ff; text-decoration-color: #ff00ff\">dsdl_RotDet_f</span>\n",
       "<span style=\"color: #ff00ff; text-decoration-color: #ff00ff\">ull.zip</span> already exists, jumping to next!\n",
       "</pre>\n"
      ],
      "text/plain": [
       "\u001b[1;36m2\u001b[0m. \n",
       "\u001b[35m/home/shardul.junagade/my-work/domain-adaptation-brick-kilns/dataset/OpenDataLab___DOTA_V1_dot_5/dsdl/\u001b[0m\u001b[95mdsdl_RotDet_f\u001b[0m\n",
       "\u001b[95mull.zip\u001b[0m already exists, jumping to next!\n"
      ]
     },
     "metadata": {},
     "output_type": "display_data"
    },
    {
     "data": {
      "text/html": [
       "<pre style=\"white-space:pre;overflow-x:auto;line-height:normal;font-family:Menlo,'DejaVu Sans Mono',consolas,'Courier New',monospace\">Total progress: <span style=\"color: #008080; text-decoration-color: #008080; font-weight: bold\">0</span>%, total files:<span style=\"color: #008080; text-decoration-color: #008080; font-weight: bold\">2</span>/<span style=\"color: #008080; text-decoration-color: #008080; font-weight: bold\">4</span>, downloaded size: <span style=\"color: #008080; text-decoration-color: #008080; font-weight: bold\">8.</span>5M, total size: <span style=\"color: #008080; text-decoration-color: #008080; font-weight: bold\">18.</span>8G</pre>\n"
      ],
      "text/plain": [
       "Total progress: \u001b[1;36m0\u001b[0m%, total files:\u001b[1;36m2\u001b[0m/\u001b[1;36m4\u001b[0m, downloaded size: \u001b[1;36m8.\u001b[0m5M, total size: \u001b[1;36m18.\u001b[0m8G"
      ]
     },
     "metadata": {},
     "output_type": "display_data"
    },
    {
     "name": "stdout",
     "output_type": "stream",
     "text": [
      "\u001b[2K\r"
     ]
    },
    {
     "data": {
      "text/html": [
       "<pre style=\"white-space:pre;overflow-x:auto;line-height:normal;font-family:Menlo,'DejaVu Sans Mono',consolas,'Courier New',monospace\"><span style=\"color: #008080; text-decoration-color: #008080; font-weight: bold\">3</span>. <span style=\"color: #800080; text-decoration-color: #800080\">/home/shardul.junagade/my-work/domain-adaptation-brick-kilns/dataset/OpenDataLab___DOTA_V1_dot_5/</span><span style=\"color: #ff00ff; text-decoration-color: #ff00ff\">metafile.yaml</span> \n",
       "already exists, jumping to next!\n",
       "</pre>\n"
      ],
      "text/plain": [
       "\u001b[1;36m3\u001b[0m. \u001b[35m/home/shardul.junagade/my-work/domain-adaptation-brick-kilns/dataset/OpenDataLab___DOTA_V1_dot_5/\u001b[0m\u001b[95mmetafile.yaml\u001b[0m \n",
       "already exists, jumping to next!\n"
      ]
     },
     "metadata": {},
     "output_type": "display_data"
    },
    {
     "data": {
      "text/html": [
       "<pre style=\"white-space:pre;overflow-x:auto;line-height:normal;font-family:Menlo,'DejaVu Sans Mono',consolas,'Courier New',monospace\">Total progress: <span style=\"color: #008080; text-decoration-color: #008080; font-weight: bold\">0</span>%, total files:<span style=\"color: #008080; text-decoration-color: #008080; font-weight: bold\">3</span>/<span style=\"color: #008080; text-decoration-color: #008080; font-weight: bold\">4</span>, downloaded size: <span style=\"color: #008080; text-decoration-color: #008080; font-weight: bold\">8.</span>5M, total size: <span style=\"color: #008080; text-decoration-color: #008080; font-weight: bold\">18.</span>8G</pre>\n"
      ],
      "text/plain": [
       "Total progress: \u001b[1;36m0\u001b[0m%, total files:\u001b[1;36m3\u001b[0m/\u001b[1;36m4\u001b[0m, downloaded size: \u001b[1;36m8.\u001b[0m5M, total size: \u001b[1;36m18.\u001b[0m8G"
      ]
     },
     "metadata": {},
     "output_type": "display_data"
    },
    {
     "name": "stdout",
     "output_type": "stream",
     "text": [
      "\u001b[2K\r"
     ]
    },
    {
     "data": {
      "text/html": [
       "<pre style=\"white-space:pre;overflow-x:auto;line-height:normal;font-family:Menlo,'DejaVu Sans Mono',consolas,'Courier New',monospace\"><span style=\"color: #008080; text-decoration-color: #008080; font-weight: bold\">4</span>. \n",
       "<span style=\"color: #800080; text-decoration-color: #800080\">/home/shardul.junagade/my-work/domain-adaptation-brick-kilns/dataset/OpenDataLab___DOTA_V1_dot_5/raw/</span><span style=\"color: #ff00ff; text-decoration-color: #ff00ff\">DOTA_V1.5.tar.</span>\n",
       "<span style=\"color: #ff00ff; text-decoration-color: #ff00ff\">gz</span> already exists, jumping to next!\n",
       "</pre>\n"
      ],
      "text/plain": [
       "\u001b[1;36m4\u001b[0m. \n",
       "\u001b[35m/home/shardul.junagade/my-work/domain-adaptation-brick-kilns/dataset/OpenDataLab___DOTA_V1_dot_5/raw/\u001b[0m\u001b[95mDOTA_V1.5.tar.\u001b[0m\n",
       "\u001b[95mgz\u001b[0m already exists, jumping to next!\n"
      ]
     },
     "metadata": {},
     "output_type": "display_data"
    },
    {
     "data": {
      "text/html": [
       "<pre style=\"white-space:pre;overflow-x:auto;line-height:normal;font-family:Menlo,'DejaVu Sans Mono',consolas,'Courier New',monospace\">Total progress: <span style=\"color: #008080; text-decoration-color: #008080; font-weight: bold\">100</span>%, total files:<span style=\"color: #008080; text-decoration-color: #008080; font-weight: bold\">4</span>/<span style=\"color: #008080; text-decoration-color: #008080; font-weight: bold\">4</span>, downloaded size: <span style=\"color: #008080; text-decoration-color: #008080; font-weight: bold\">18.</span>8G, total size: <span style=\"color: #008080; text-decoration-color: #008080; font-weight: bold\">18.</span>8G</pre>\n"
      ],
      "text/plain": [
       "Total progress: \u001b[1;36m100\u001b[0m%, total files:\u001b[1;36m4\u001b[0m/\u001b[1;36m4\u001b[0m, downloaded size: \u001b[1;36m18.\u001b[0m8G, total size: \u001b[1;36m18.\u001b[0m8G"
      ]
     },
     "metadata": {},
     "output_type": "display_data"
    },
    {
     "name": "stdout",
     "output_type": "stream",
     "text": [
      "\u001b[2K\r"
     ]
    },
    {
     "data": {
      "text/html": [
       "<pre style=\"white-space:pre;overflow-x:auto;line-height:normal;font-family:Menlo,'DejaVu Sans Mono',consolas,'Courier New',monospace\">Total progress: <span style=\"color: #008080; text-decoration-color: #008080; font-weight: bold\">100</span>%, total files:<span style=\"color: #008080; text-decoration-color: #008080; font-weight: bold\">4</span>/<span style=\"color: #008080; text-decoration-color: #008080; font-weight: bold\">4</span>, downloaded size: <span style=\"color: #008080; text-decoration-color: #008080; font-weight: bold\">18.</span>8G, total size: <span style=\"color: #008080; text-decoration-color: #008080; font-weight: bold\">18.</span>8G\n",
       "</pre>\n"
      ],
      "text/plain": [
       "Total progress: \u001b[1;36m100\u001b[0m%, total files:\u001b[1;36m4\u001b[0m/\u001b[1;36m4\u001b[0m, downloaded size: \u001b[1;36m18.\u001b[0m8G, total size: \u001b[1;36m18.\u001b[0m8G\n"
      ]
     },
     "metadata": {},
     "output_type": "display_data"
    },
    {
     "data": {
      "text/html": [
       "<pre style=\"white-space:pre;overflow-x:auto;line-height:normal;font-family:Menlo,'DejaVu Sans Mono',consolas,'Courier New',monospace\">Download Completed.\n",
       "</pre>\n"
      ],
      "text/plain": [
       "Download Completed.\n"
      ]
     },
     "metadata": {},
     "output_type": "display_data"
    },
    {
     "data": {
      "text/html": [
       "<pre style=\"white-space:pre;overflow-x:auto;line-height:normal;font-family:Menlo,'DejaVu Sans Mono',consolas,'Courier New',monospace\">The folder has been successfully downloaded to \n",
       "<span style=\"color: #800080; text-decoration-color: #800080\">/home/shardul.junagade/my-work/domain-adaptation-brick-kilns/dataset/OpenDataLab___DOTA_V1_dot_5/</span><span style=\"color: #ff00ff; text-decoration-color: #ff00ff\">raw</span>\n",
       "</pre>\n"
      ],
      "text/plain": [
       "The folder has been successfully downloaded to \n",
       "\u001b[35m/home/shardul.junagade/my-work/domain-adaptation-brick-kilns/dataset/OpenDataLab___DOTA_V1_dot_5/\u001b[0m\u001b[95mraw\u001b[0m\n"
      ]
     },
     "metadata": {},
     "output_type": "display_data"
    }
   ],
   "source": [
    "from openxlab.dataset import get\n",
    "get(dataset_repo='OpenDataLab/DOTA_V1_dot_5', target_path='')  # Dataset download\n"
   ]
  },
  {
   "cell_type": "code",
   "execution_count": 6,
   "metadata": {},
   "outputs": [
    {
     "data": {
      "text/html": [
       "<pre style=\"white-space:pre;overflow-x:auto;line-height:normal;font-family:Menlo,'DejaVu Sans Mono',consolas,'Courier New',monospace\">Fetching the list of files<span style=\"color: #808000; text-decoration-color: #808000\">...</span>\n",
       "</pre>\n"
      ],
      "text/plain": [
       "Fetching the list of files\u001b[33m...\u001b[0m\n"
      ]
     },
     "metadata": {},
     "output_type": "display_data"
    },
    {
     "data": {
      "text/html": [
       "<pre style=\"white-space:pre;overflow-x:auto;line-height:normal;font-family:Menlo,'DejaVu Sans Mono',consolas,'Courier New',monospace\">Downloading <span style=\"color: #008080; text-decoration-color: #008080; font-weight: bold\">1</span> files: \n",
       "</pre>\n"
      ],
      "text/plain": [
       "Downloading \u001b[1;36m1\u001b[0m files: \n"
      ]
     },
     "metadata": {},
     "output_type": "display_data"
    },
    {
     "data": {
      "text/html": [
       "<pre style=\"white-space:pre;overflow-x:auto;line-height:normal;font-family:Menlo,'DejaVu Sans Mono',consolas,'Courier New',monospace\"><span style=\"color: #008080; text-decoration-color: #008080; font-weight: bold\">1</span>. file: README.md, size: <span style=\"color: #008080; text-decoration-color: #008080; font-weight: bold\">1.</span>65K, progress: <span style=\"color: #008080; text-decoration-color: #008080; font-weight: bold\">100</span>%\n",
       "</pre>\n"
      ],
      "text/plain": [
       "\u001b[1;36m1\u001b[0m. file: README.md, size: \u001b[1;36m1.\u001b[0m65K, progress: \u001b[1;36m100\u001b[0m%\n"
      ]
     },
     "metadata": {},
     "output_type": "display_data"
    },
    {
     "data": {
      "text/html": [
       "<pre style=\"white-space:pre;overflow-x:auto;line-height:normal;font-family:Menlo,'DejaVu Sans Mono',consolas,'Courier New',monospace\">Total progress: <span style=\"color: #008080; text-decoration-color: #008080; font-weight: bold\">100</span>%, total files:<span style=\"color: #008080; text-decoration-color: #008080; font-weight: bold\">1</span>/<span style=\"color: #008080; text-decoration-color: #008080; font-weight: bold\">1</span>, downloaded size: <span style=\"color: #008080; text-decoration-color: #008080; font-weight: bold\">1.</span>6K, total size: <span style=\"color: #008080; text-decoration-color: #008080; font-weight: bold\">1.</span>6K\n",
       "</pre>\n"
      ],
      "text/plain": [
       "Total progress: \u001b[1;36m100\u001b[0m%, total files:\u001b[1;36m1\u001b[0m/\u001b[1;36m1\u001b[0m, downloaded size: \u001b[1;36m1.\u001b[0m6K, total size: \u001b[1;36m1.\u001b[0m6K\n"
      ]
     },
     "metadata": {},
     "output_type": "display_data"
    },
    {
     "data": {
      "text/html": [
       "<pre style=\"white-space:pre;overflow-x:auto;line-height:normal;font-family:Menlo,'DejaVu Sans Mono',consolas,'Courier New',monospace\">Download Completed.\n",
       "</pre>\n"
      ],
      "text/plain": [
       "Download Completed.\n"
      ]
     },
     "metadata": {},
     "output_type": "display_data"
    },
    {
     "data": {
      "text/html": [
       "<pre style=\"white-space:pre;overflow-x:auto;line-height:normal;font-family:Menlo,'DejaVu Sans Mono',consolas,'Courier New',monospace\">The file has been successfully downloaded to \n",
       "<span style=\"color: #800080; text-decoration-color: #800080\">/home/shardul.junagade/my-work/domain-adaptation-brick-kilns/dataset/dataset/OpenDataLab___DOTA_V1_dot_5/</span><span style=\"color: #ff00ff; text-decoration-color: #ff00ff\">README.md</span>\n",
       "</pre>\n"
      ],
      "text/plain": [
       "The file has been successfully downloaded to \n",
       "\u001b[35m/home/shardul.junagade/my-work/domain-adaptation-brick-kilns/dataset/dataset/OpenDataLab___DOTA_V1_dot_5/\u001b[0m\u001b[95mREADME.md\u001b[0m\n"
      ]
     },
     "metadata": {},
     "output_type": "display_data"
    }
   ],
   "source": [
    "\n",
    "from openxlab.dataset import download\n",
    "download(dataset_repo='OpenDataLab/DOTA_V1_dot_5',source_path='/README.md', target_path='/') #Dataset file download"
   ]
  },
  {
   "cell_type": "code",
   "execution_count": null,
   "metadata": {},
   "outputs": [],
   "source": []
  }
 ],
 "metadata": {
  "kernelspec": {
   "display_name": "shardul_env",
   "language": "python",
   "name": "python3"
  },
  "language_info": {
   "codemirror_mode": {
    "name": "ipython",
    "version": 3
   },
   "file_extension": ".py",
   "mimetype": "text/x-python",
   "name": "python",
   "nbconvert_exporter": "python",
   "pygments_lexer": "ipython3",
   "version": "3.12.8"
  }
 },
 "nbformat": 4,
 "nbformat_minor": 2
}
